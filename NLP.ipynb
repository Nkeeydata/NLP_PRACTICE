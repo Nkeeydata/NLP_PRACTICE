{
  "cells": [
    {
      "cell_type": "markdown",
      "metadata": {
        "id": "view-in-github",
        "colab_type": "text"
      },
      "source": [
        "<a href=\"https://colab.research.google.com/github/Nkeeydata/NLP_PRACTICE/blob/main/NLP.ipynb\" target=\"_parent\"><img src=\"https://colab.research.google.com/assets/colab-badge.svg\" alt=\"Open In Colab\"/></a>"
      ]
    },
    {
      "cell_type": "markdown",
      "id": "ae599300-3ebb-4ba4-b123-74bd6cd98cc9",
      "metadata": {
        "id": "ae599300-3ebb-4ba4-b123-74bd6cd98cc9"
      },
      "source": [
        "### Natural Language Assignments on Foundational Courses"
      ]
    },
    {
      "cell_type": "markdown",
      "id": "3417a64b-8c21-40dc-81f9-bb69723523ba",
      "metadata": {
        "id": "3417a64b-8c21-40dc-81f9-bb69723523ba"
      },
      "source": [
        "### What is Natural Language Processing (NLP)?\n",
        "\n",
        "To me, Natural Language Processing (NLP) is like teaching computers how to understand and talk like humans. It helps machines read, listen, and even respond to things we say or write—kind of like how Siri or Google Assistant can answer questions or follow commands.\n"
      ]
    },
    {
      "cell_type": "markdown",
      "id": "ebf1aa92-0d67-4ff0-9716-c7e831874215",
      "metadata": {
        "id": "ebf1aa92-0d67-4ff0-9716-c7e831874215"
      },
      "source": [
        "### Real-World Applications of NLP\n",
        "\n",
        "a. Chatbots and Virtual Assistants\n",
        "Apps like Siri, Alexa, and Copilot use NLP to understand what we say and reply in a smart way. They make life easier by helping us set reminders, search the web, or even control devices with our voice.\n",
        "b. Language Translation\n",
        "Google Translate uses NLP to convert one language into another. This is super helpful when traveling or chatting with people from different countries.\n",
        "c. Spam Detection in Emails\n",
        "NLP helps email apps figure out which messages are spam and which ones are important. It scans the words and patterns to keep our inbox clean.\n"
      ]
    },
    {
      "cell_type": "markdown",
      "id": "3c1a9754-c492-491d-a9ef-e808ee014f85",
      "metadata": {
        "id": "3c1a9754-c492-491d-a9ef-e808ee014f85"
      },
      "source": [
        "### Challenges That Make NLP Complex\n",
        "\n",
        "a. Ambiguity in Language\n",
        "Sometimes words mean different things depending on how they’re used. For example, “bat” could mean an animal or a baseball bat. Computers struggle to figure out the right meaning without enough context.\n",
        "b. Slang and Informal Language\n",
        "People use slang, emojis, and abbreviations all the time—especially online. It’s hard for machines to understand stuff like “LOL” or “I’m dead 😂” unless they’re trained really well.\n"
      ]
    },
    {
      "cell_type": "markdown",
      "id": "c19fd009-c44e-4f43-b1e0-dff55b9563da",
      "metadata": {
        "id": "c19fd009-c44e-4f43-b1e0-dff55b9563da"
      },
      "source": [
        "### Number 4"
      ]
    },
    {
      "cell_type": "code",
      "execution_count": null,
      "id": "533b42fd-4938-4886-ba24-7ddc2a54a80c",
      "metadata": {
        "id": "533b42fd-4938-4886-ba24-7ddc2a54a80c",
        "outputId": "dce009db-3040-4442-c3b4-67b18d5b36d8"
      },
      "outputs": [
        {
          "name": "stdout",
          "output_type": "stream",
          "text": [
            "Requirement already satisfied: spacy in c:\\users\\nkechi pc\\anaconda3\\lib\\site-packages (3.8.7)\n",
            "Requirement already satisfied: spacy-legacy<3.1.0,>=3.0.11 in c:\\users\\nkechi pc\\anaconda3\\lib\\site-packages (from spacy) (3.0.12)\n",
            "Requirement already satisfied: spacy-loggers<2.0.0,>=1.0.0 in c:\\users\\nkechi pc\\anaconda3\\lib\\site-packages (from spacy) (1.0.5)\n",
            "Requirement already satisfied: murmurhash<1.1.0,>=0.28.0 in c:\\users\\nkechi pc\\anaconda3\\lib\\site-packages (from spacy) (1.0.13)\n",
            "Requirement already satisfied: cymem<2.1.0,>=2.0.2 in c:\\users\\nkechi pc\\anaconda3\\lib\\site-packages (from spacy) (2.0.11)\n",
            "Requirement already satisfied: preshed<3.1.0,>=3.0.2 in c:\\users\\nkechi pc\\anaconda3\\lib\\site-packages (from spacy) (3.0.10)\n",
            "Requirement already satisfied: thinc<8.4.0,>=8.3.4 in c:\\users\\nkechi pc\\anaconda3\\lib\\site-packages (from spacy) (8.3.6)\n",
            "Requirement already satisfied: wasabi<1.2.0,>=0.9.1 in c:\\users\\nkechi pc\\anaconda3\\lib\\site-packages (from spacy) (1.1.3)\n",
            "Requirement already satisfied: srsly<3.0.0,>=2.4.3 in c:\\users\\nkechi pc\\anaconda3\\lib\\site-packages (from spacy) (2.5.1)\n",
            "Requirement already satisfied: catalogue<2.1.0,>=2.0.6 in c:\\users\\nkechi pc\\anaconda3\\lib\\site-packages (from spacy) (2.0.10)\n",
            "Requirement already satisfied: weasel<0.5.0,>=0.1.0 in c:\\users\\nkechi pc\\anaconda3\\lib\\site-packages (from spacy) (0.4.1)\n",
            "Requirement already satisfied: typer<1.0.0,>=0.3.0 in c:\\users\\nkechi pc\\anaconda3\\lib\\site-packages (from spacy) (0.17.4)\n",
            "Requirement already satisfied: tqdm<5.0.0,>=4.38.0 in c:\\users\\nkechi pc\\anaconda3\\lib\\site-packages (from spacy) (4.66.4)\n",
            "Requirement already satisfied: numpy>=1.19.0 in c:\\users\\nkechi pc\\anaconda3\\lib\\site-packages (from spacy) (2.3.2)\n",
            "Requirement already satisfied: requests<3.0.0,>=2.13.0 in c:\\users\\nkechi pc\\anaconda3\\lib\\site-packages (from spacy) (2.32.2)\n",
            "Requirement already satisfied: pydantic!=1.8,!=1.8.1,<3.0.0,>=1.7.4 in c:\\users\\nkechi pc\\anaconda3\\lib\\site-packages (from spacy) (2.5.3)\n",
            "Requirement already satisfied: jinja2 in c:\\users\\nkechi pc\\anaconda3\\lib\\site-packages (from spacy) (3.1.4)\n",
            "Requirement already satisfied: setuptools in c:\\users\\nkechi pc\\anaconda3\\lib\\site-packages (from spacy) (69.5.1)\n",
            "Requirement already satisfied: packaging>=20.0 in c:\\users\\nkechi pc\\anaconda3\\lib\\site-packages (from spacy) (23.2)\n",
            "Requirement already satisfied: langcodes<4.0.0,>=3.2.0 in c:\\users\\nkechi pc\\anaconda3\\lib\\site-packages (from spacy) (3.5.0)\n",
            "Requirement already satisfied: language-data>=1.2 in c:\\users\\nkechi pc\\anaconda3\\lib\\site-packages (from langcodes<4.0.0,>=3.2.0->spacy) (1.3.0)\n",
            "Requirement already satisfied: annotated-types>=0.4.0 in c:\\users\\nkechi pc\\anaconda3\\lib\\site-packages (from pydantic!=1.8,!=1.8.1,<3.0.0,>=1.7.4->spacy) (0.6.0)\n",
            "Requirement already satisfied: pydantic-core==2.14.6 in c:\\users\\nkechi pc\\anaconda3\\lib\\site-packages (from pydantic!=1.8,!=1.8.1,<3.0.0,>=1.7.4->spacy) (2.14.6)\n",
            "Requirement already satisfied: typing-extensions>=4.6.1 in c:\\users\\nkechi pc\\anaconda3\\lib\\site-packages (from pydantic!=1.8,!=1.8.1,<3.0.0,>=1.7.4->spacy) (4.11.0)\n",
            "Requirement already satisfied: charset-normalizer<4,>=2 in c:\\users\\nkechi pc\\anaconda3\\lib\\site-packages (from requests<3.0.0,>=2.13.0->spacy) (2.0.4)\n",
            "Requirement already satisfied: idna<4,>=2.5 in c:\\users\\nkechi pc\\anaconda3\\lib\\site-packages (from requests<3.0.0,>=2.13.0->spacy) (3.7)\n",
            "Requirement already satisfied: urllib3<3,>=1.21.1 in c:\\users\\nkechi pc\\anaconda3\\lib\\site-packages (from requests<3.0.0,>=2.13.0->spacy) (2.2.2)\n",
            "Requirement already satisfied: certifi>=2017.4.17 in c:\\users\\nkechi pc\\anaconda3\\lib\\site-packages (from requests<3.0.0,>=2.13.0->spacy) (2024.7.4)\n",
            "Requirement already satisfied: blis<1.4.0,>=1.3.0 in c:\\users\\nkechi pc\\anaconda3\\lib\\site-packages (from thinc<8.4.0,>=8.3.4->spacy) (1.3.0)\n",
            "Requirement already satisfied: confection<1.0.0,>=0.0.1 in c:\\users\\nkechi pc\\anaconda3\\lib\\site-packages (from thinc<8.4.0,>=8.3.4->spacy) (0.1.5)\n",
            "Requirement already satisfied: colorama in c:\\users\\nkechi pc\\anaconda3\\lib\\site-packages (from tqdm<5.0.0,>=4.38.0->spacy) (0.4.6)\n",
            "Requirement already satisfied: click>=8.0.0 in c:\\users\\nkechi pc\\anaconda3\\lib\\site-packages (from typer<1.0.0,>=0.3.0->spacy) (8.1.7)\n",
            "Requirement already satisfied: shellingham>=1.3.0 in c:\\users\\nkechi pc\\anaconda3\\lib\\site-packages (from typer<1.0.0,>=0.3.0->spacy) (1.5.4)\n",
            "Requirement already satisfied: rich>=10.11.0 in c:\\users\\nkechi pc\\anaconda3\\lib\\site-packages (from typer<1.0.0,>=0.3.0->spacy) (13.3.5)\n",
            "Requirement already satisfied: cloudpathlib<1.0.0,>=0.7.0 in c:\\users\\nkechi pc\\anaconda3\\lib\\site-packages (from weasel<0.5.0,>=0.1.0->spacy) (0.22.0)\n",
            "Requirement already satisfied: smart-open<8.0.0,>=5.2.1 in c:\\users\\nkechi pc\\anaconda3\\lib\\site-packages (from weasel<0.5.0,>=0.1.0->spacy) (5.2.1)\n",
            "Requirement already satisfied: MarkupSafe>=2.0 in c:\\users\\nkechi pc\\anaconda3\\lib\\site-packages (from jinja2->spacy) (2.1.3)\n",
            "Requirement already satisfied: marisa-trie>=1.1.0 in c:\\users\\nkechi pc\\anaconda3\\lib\\site-packages (from language-data>=1.2->langcodes<4.0.0,>=3.2.0->spacy) (1.3.1)\n",
            "Requirement already satisfied: markdown-it-py<3.0.0,>=2.2.0 in c:\\users\\nkechi pc\\anaconda3\\lib\\site-packages (from rich>=10.11.0->typer<1.0.0,>=0.3.0->spacy) (2.2.0)\n",
            "Requirement already satisfied: pygments<3.0.0,>=2.13.0 in c:\\users\\nkechi pc\\anaconda3\\lib\\site-packages (from rich>=10.11.0->typer<1.0.0,>=0.3.0->spacy) (2.15.1)\n",
            "Requirement already satisfied: mdurl~=0.1 in c:\\users\\nkechi pc\\anaconda3\\lib\\site-packages (from markdown-it-py<3.0.0,>=2.2.0->rich>=10.11.0->typer<1.0.0,>=0.3.0->spacy) (0.1.0)\n"
          ]
        },
        {
          "name": "stderr",
          "output_type": "stream",
          "text": [
            "Traceback (most recent call last):\n",
            "  File \"<frozen runpy>\", line 189, in _run_module_as_main\n",
            "  File \"<frozen runpy>\", line 148, in _get_module_details\n",
            "  File \"<frozen runpy>\", line 112, in _get_module_details\n",
            "  File \"C:\\Users\\Nkechi Pc\\anaconda3\\Lib\\site-packages\\spacy\\__init__.py\", line 6, in <module>\n",
            "    from .errors import setup_default_warnings\n",
            "  File \"C:\\Users\\Nkechi Pc\\anaconda3\\Lib\\site-packages\\spacy\\errors.py\", line 3, in <module>\n",
            "    from .compat import Literal\n",
            "  File \"C:\\Users\\Nkechi Pc\\anaconda3\\Lib\\site-packages\\spacy\\compat.py\", line 4, in <module>\n",
            "    from thinc.util import copy_array\n",
            "  File \"C:\\Users\\Nkechi Pc\\anaconda3\\Lib\\site-packages\\thinc\\__init__.py\", line 5, in <module>\n",
            "    from .config import registry\n",
            "  File \"C:\\Users\\Nkechi Pc\\anaconda3\\Lib\\site-packages\\thinc\\config.py\", line 5, in <module>\n",
            "    from .types import Decorator\n",
            "  File \"C:\\Users\\Nkechi Pc\\anaconda3\\Lib\\site-packages\\thinc\\types.py\", line 27, in <module>\n",
            "    from .compat import cupy, has_cupy\n",
            "  File \"C:\\Users\\Nkechi Pc\\anaconda3\\Lib\\site-packages\\thinc\\compat.py\", line 99, in <module>\n",
            "    import h5py\n",
            "  File \"C:\\Users\\Nkechi Pc\\anaconda3\\Lib\\site-packages\\h5py\\__init__.py\", line 45, in <module>\n",
            "    from ._conv import register_converters as _register_converters, \\\n",
            "  File \"h5py\\\\_conv.pyx\", line 1, in init h5py._conv\n",
            "  File \"h5py\\\\h5r.pyx\", line 1, in init h5py.h5r\n",
            "  File \"h5py\\\\h5p.pyx\", line 1, in init h5py.h5p\n",
            "ValueError: numpy.dtype size changed, may indicate binary incompatibility. Expected 96 from C header, got 88 from PyObject\n"
          ]
        },
        {
          "ename": "ImportError",
          "evalue": "numpy.core.multiarray failed to import (auto-generated because you didn't call 'numpy.import_array()' after cimporting numpy; use '<void>numpy._import_array' to disable if you are certain you don't need it).",
          "output_type": "error",
          "traceback": [
            "\u001b[1;31m---------------------------------------------------------------------------\u001b[0m",
            "\u001b[1;31mImportError\u001b[0m                               Traceback (most recent call last)",
            "Cell \u001b[1;32mIn[60], line 3\u001b[0m\n\u001b[0;32m      1\u001b[0m get_ipython()\u001b[38;5;241m.\u001b[39msystem(\u001b[38;5;124m'\u001b[39m\u001b[38;5;124mpip install spacy\u001b[39m\u001b[38;5;124m'\u001b[39m)\n\u001b[0;32m      2\u001b[0m get_ipython()\u001b[38;5;241m.\u001b[39msystem(\u001b[38;5;124m'\u001b[39m\u001b[38;5;124mpython -m spacy download en_core_web_sm\u001b[39m\u001b[38;5;124m'\u001b[39m)\n\u001b[1;32m----> 3\u001b[0m \u001b[38;5;28;01mimport\u001b[39;00m \u001b[38;5;21;01mspacy\u001b[39;00m\n",
            "File \u001b[1;32m~\\anaconda3\\Lib\\site-packages\\spacy\\__init__.py:6\u001b[0m\n\u001b[0;32m      3\u001b[0m \u001b[38;5;28;01mfrom\u001b[39;00m \u001b[38;5;21;01mtyping\u001b[39;00m \u001b[38;5;28;01mimport\u001b[39;00m Any, Dict, Iterable, Union\n\u001b[0;32m      5\u001b[0m \u001b[38;5;66;03m# set library-specific custom warning handling before doing anything else\u001b[39;00m\n\u001b[1;32m----> 6\u001b[0m \u001b[38;5;28;01mfrom\u001b[39;00m \u001b[38;5;21;01m.\u001b[39;00m\u001b[38;5;21;01merrors\u001b[39;00m \u001b[38;5;28;01mimport\u001b[39;00m setup_default_warnings\n\u001b[0;32m      8\u001b[0m setup_default_warnings()  \u001b[38;5;66;03m# noqa: E402\u001b[39;00m\n\u001b[0;32m     10\u001b[0m \u001b[38;5;66;03m# These are imported as part of the API\u001b[39;00m\n",
            "File \u001b[1;32m~\\anaconda3\\Lib\\site-packages\\spacy\\errors.py:3\u001b[0m\n\u001b[0;32m      1\u001b[0m \u001b[38;5;28;01mimport\u001b[39;00m \u001b[38;5;21;01mwarnings\u001b[39;00m\n\u001b[1;32m----> 3\u001b[0m \u001b[38;5;28;01mfrom\u001b[39;00m \u001b[38;5;21;01m.\u001b[39;00m\u001b[38;5;21;01mcompat\u001b[39;00m \u001b[38;5;28;01mimport\u001b[39;00m Literal\n\u001b[0;32m      6\u001b[0m \u001b[38;5;28;01mclass\u001b[39;00m \u001b[38;5;21;01mErrorsWithCodes\u001b[39;00m(\u001b[38;5;28mtype\u001b[39m):\n\u001b[0;32m      7\u001b[0m     \u001b[38;5;28;01mdef\u001b[39;00m \u001b[38;5;21m__getattribute__\u001b[39m(\u001b[38;5;28mself\u001b[39m, code):\n",
            "File \u001b[1;32m~\\anaconda3\\Lib\\site-packages\\spacy\\compat.py:39\u001b[0m\n\u001b[0;32m     36\u001b[0m \u001b[38;5;28;01mexcept\u001b[39;00m \u001b[38;5;167;01mImportError\u001b[39;00m:\n\u001b[0;32m     37\u001b[0m     \u001b[38;5;28;01mfrom\u001b[39;00m \u001b[38;5;21;01mcatalogue\u001b[39;00m \u001b[38;5;28;01mimport\u001b[39;00m _importlib_metadata \u001b[38;5;28;01mas\u001b[39;00m importlib_metadata  \u001b[38;5;66;03m# type: ignore[no-redef]    # noqa: F401\u001b[39;00m\n\u001b[1;32m---> 39\u001b[0m \u001b[38;5;28;01mfrom\u001b[39;00m \u001b[38;5;21;01mthinc\u001b[39;00m\u001b[38;5;21;01m.\u001b[39;00m\u001b[38;5;21;01mapi\u001b[39;00m \u001b[38;5;28;01mimport\u001b[39;00m Optimizer  \u001b[38;5;66;03m# noqa: F401\u001b[39;00m\n\u001b[0;32m     41\u001b[0m pickle \u001b[38;5;241m=\u001b[39m pickle\n\u001b[0;32m     42\u001b[0m copy_reg \u001b[38;5;241m=\u001b[39m copy_reg\n",
            "File \u001b[1;32m~\\anaconda3\\Lib\\site-packages\\thinc\\api.py:1\u001b[0m\n\u001b[1;32m----> 1\u001b[0m \u001b[38;5;28;01mfrom\u001b[39;00m \u001b[38;5;21;01m.\u001b[39;00m\u001b[38;5;21;01mbackends\u001b[39;00m \u001b[38;5;28;01mimport\u001b[39;00m (\n\u001b[0;32m      2\u001b[0m     CupyOps,\n\u001b[0;32m      3\u001b[0m     MPSOps,\n\u001b[0;32m      4\u001b[0m     NumpyOps,\n\u001b[0;32m      5\u001b[0m     Ops,\n\u001b[0;32m      6\u001b[0m     get_current_ops,\n\u001b[0;32m      7\u001b[0m     get_ops,\n\u001b[0;32m      8\u001b[0m     set_current_ops,\n\u001b[0;32m      9\u001b[0m     set_gpu_allocator,\n\u001b[0;32m     10\u001b[0m     use_ops,\n\u001b[0;32m     11\u001b[0m     use_pytorch_for_gpu_memory,\n\u001b[0;32m     12\u001b[0m     use_tensorflow_for_gpu_memory,\n\u001b[0;32m     13\u001b[0m )\n\u001b[0;32m     14\u001b[0m \u001b[38;5;28;01mfrom\u001b[39;00m \u001b[38;5;21;01m.\u001b[39;00m\u001b[38;5;21;01mcompat\u001b[39;00m \u001b[38;5;28;01mimport\u001b[39;00m enable_mxnet, enable_tensorflow, has_cupy\n\u001b[0;32m     15\u001b[0m \u001b[38;5;28;01mfrom\u001b[39;00m \u001b[38;5;21;01m.\u001b[39;00m\u001b[38;5;21;01mconfig\u001b[39;00m \u001b[38;5;28;01mimport\u001b[39;00m Config, ConfigValidationError, registry\n",
            "File \u001b[1;32m~\\anaconda3\\Lib\\site-packages\\thinc\\backends\\__init__.py:17\u001b[0m\n\u001b[0;32m     15\u001b[0m \u001b[38;5;28;01mfrom\u001b[39;00m \u001b[38;5;21;01m.\u001b[39;00m\u001b[38;5;21;01m_cupy_allocators\u001b[39;00m \u001b[38;5;28;01mimport\u001b[39;00m cupy_pytorch_allocator, cupy_tensorflow_allocator\n\u001b[0;32m     16\u001b[0m \u001b[38;5;28;01mfrom\u001b[39;00m \u001b[38;5;21;01m.\u001b[39;00m\u001b[38;5;21;01m_param_server\u001b[39;00m \u001b[38;5;28;01mimport\u001b[39;00m ParamServer\n\u001b[1;32m---> 17\u001b[0m \u001b[38;5;28;01mfrom\u001b[39;00m \u001b[38;5;21;01m.\u001b[39;00m\u001b[38;5;21;01mcupy_ops\u001b[39;00m \u001b[38;5;28;01mimport\u001b[39;00m CupyOps\n\u001b[0;32m     18\u001b[0m \u001b[38;5;28;01mfrom\u001b[39;00m \u001b[38;5;21;01m.\u001b[39;00m\u001b[38;5;21;01mmps_ops\u001b[39;00m \u001b[38;5;28;01mimport\u001b[39;00m MPSOps\n\u001b[0;32m     19\u001b[0m \u001b[38;5;28;01mfrom\u001b[39;00m \u001b[38;5;21;01m.\u001b[39;00m\u001b[38;5;21;01mnumpy_ops\u001b[39;00m \u001b[38;5;28;01mimport\u001b[39;00m NumpyOps\n",
            "File \u001b[1;32m~\\anaconda3\\Lib\\site-packages\\thinc\\backends\\cupy_ops.py:16\u001b[0m\n\u001b[0;32m      6\u001b[0m \u001b[38;5;28;01mfrom\u001b[39;00m \u001b[38;5;21;01m.\u001b[39;00m\u001b[38;5;21;01m.\u001b[39;00m\u001b[38;5;21;01mutil\u001b[39;00m \u001b[38;5;28;01mimport\u001b[39;00m (\n\u001b[0;32m      7\u001b[0m     is_cupy_array,\n\u001b[0;32m      8\u001b[0m     is_mxnet_gpu_array,\n\u001b[1;32m   (...)\u001b[0m\n\u001b[0;32m     13\u001b[0m     torch2xp,\n\u001b[0;32m     14\u001b[0m )\n\u001b[0;32m     15\u001b[0m \u001b[38;5;28;01mfrom\u001b[39;00m \u001b[38;5;21;01m.\u001b[39;00m \u001b[38;5;28;01mimport\u001b[39;00m _custom_kernels\n\u001b[1;32m---> 16\u001b[0m \u001b[38;5;28;01mfrom\u001b[39;00m \u001b[38;5;21;01m.\u001b[39;00m\u001b[38;5;21;01mnumpy_ops\u001b[39;00m \u001b[38;5;28;01mimport\u001b[39;00m NumpyOps\n\u001b[0;32m     17\u001b[0m \u001b[38;5;28;01mfrom\u001b[39;00m \u001b[38;5;21;01m.\u001b[39;00m\u001b[38;5;21;01mops\u001b[39;00m \u001b[38;5;28;01mimport\u001b[39;00m Ops\n\u001b[0;32m     20\u001b[0m \u001b[38;5;129m@registry\u001b[39m\u001b[38;5;241m.\u001b[39mops(\u001b[38;5;124m\"\u001b[39m\u001b[38;5;124mCupyOps\u001b[39m\u001b[38;5;124m\"\u001b[39m)\n\u001b[0;32m     21\u001b[0m \u001b[38;5;28;01mclass\u001b[39;00m \u001b[38;5;21;01mCupyOps\u001b[39;00m(Ops):\n",
            "File \u001b[1;32m~\\anaconda3\\Lib\\site-packages\\thinc\\backends\\numpy_ops.pyx:1\u001b[0m, in \u001b[0;36minit thinc.backends.numpy_ops\u001b[1;34m()\u001b[0m\n",
            "\u001b[1;31mImportError\u001b[0m: numpy.core.multiarray failed to import (auto-generated because you didn't call 'numpy.import_array()' after cimporting numpy; use '<void>numpy._import_array' to disable if you are certain you don't need it)."
          ]
        }
      ],
      "source": [
        "!pip install spacy\n",
        "!python -m spacy download en_core_web_sm\n",
        "import spacy"
      ]
    },
    {
      "cell_type": "code",
      "execution_count": null,
      "id": "7ef7dad8-5afc-438d-86e5-cfd69196b64f",
      "metadata": {
        "id": "7ef7dad8-5afc-438d-86e5-cfd69196b64f"
      },
      "outputs": [],
      "source": [
        "import re\n",
        "import string\n",
        "import nltk\n",
        "from nltk.tokenize import word_tokenize, sent_tokenize\n",
        "from nltk.stem import PorterStemmer\n",
        "import pandas as pd\n",
        "\n"
      ]
    },
    {
      "cell_type": "code",
      "execution_count": null,
      "id": "aa38a2a5-dfbe-4c33-ae65-d53370409478",
      "metadata": {
        "id": "aa38a2a5-dfbe-4c33-ae65-d53370409478",
        "outputId": "15ddf98f-4465-491f-8649-df025d861857"
      },
      "outputs": [
        {
          "name": "stdout",
          "output_type": "stream",
          "text": [
            "Extracted Emails: ['support@company.com', 'sales@business.org', 'info@service.net']\n"
          ]
        }
      ],
      "source": [
        "# Sample text\n",
        "text = \"Contact us at support@company.com or sales@business.org. For more, email info@service.net.\"\n",
        "\n",
        "# Regex pattern to match email addresses\n",
        "email_pattern = r'[a-zA-Z0-9._%+-]+@[a-zA-Z0-9.-]+\\.[a-zA-Z]{2,}'\n",
        "\n",
        "# Extract all matches\n",
        "emails = re.findall(email_pattern, text)\n",
        "\n",
        "# Display result\n",
        "print(\"Extracted Emails:\", emails)"
      ]
    },
    {
      "cell_type": "markdown",
      "id": "3d1be79f-f0f8-4792-a08e-0475243d1c32",
      "metadata": {
        "id": "3d1be79f-f0f8-4792-a08e-0475243d1c32"
      },
      "source": [
        "### Number 5"
      ]
    },
    {
      "cell_type": "code",
      "execution_count": null,
      "id": "dca8cb18-2c3e-40ec-bc4f-cccd9cd6cc9d",
      "metadata": {
        "id": "dca8cb18-2c3e-40ec-bc4f-cccd9cd6cc9d",
        "outputId": "04e1a7c6-d99b-4a71-d75f-c133d99f7909"
      },
      "outputs": [
        {
          "name": "stdout",
          "output_type": "stream",
          "text": [
            "Cleaned Words: ['nlp', 'makes', 'ai', 'smarter', 'but', 'sometimes', 'it’s', 'challenging', 'don’t', 'you', 'agree']\n"
          ]
        }
      ],
      "source": [
        "# Original text\n",
        "text = \"NLP makes AI smarter! But, sometimes, it’s challenging... Don’t you agree?\"\n",
        "\n",
        "# Step 1: Removal of punctuation\n",
        "text_no_punct = text.translate(str.maketrans('', '', string.punctuation))\n",
        "\n",
        "# Step 2: Converting to lowercase\n",
        "text_lower = text_no_punct.lower()\n",
        "\n",
        "# Step 3: Split into words\n",
        "words = text_lower.split()\n",
        "\n",
        "# Display result\n",
        "print(\"Cleaned Words:\", words)\n"
      ]
    },
    {
      "cell_type": "markdown",
      "id": "0dc16564-2a04-40c3-9fb2-79f4d4445068",
      "metadata": {
        "id": "0dc16564-2a04-40c3-9fb2-79f4d4445068"
      },
      "source": [
        "### Text Cleaning Task"
      ]
    },
    {
      "cell_type": "code",
      "execution_count": null,
      "id": "7ccd65ef-6caf-4db0-aa8c-22068d429a07",
      "metadata": {
        "id": "7ccd65ef-6caf-4db0-aa8c-22068d429a07",
        "outputId": "be06b43e-4f53-478e-effb-2740b2ba285d"
      },
      "outputs": [
        {
          "name": "stdout",
          "output_type": "stream",
          "text": [
            "Cleaned Words: ['omg', 'nlp', 'is', 'soooo', 'coool', 'it', 'costs', '1000', 'learn', 'it', 'now', 'at']\n"
          ]
        }
      ],
      "source": [
        "# Original text\n",
        "text = \"OMG!! NLP is soooo coool 🤩...!!! It costs $1000. Learn it now at https://3mtt.com 😎.\"\n",
        "\n",
        "# Step 1: Remove emojis and URLs\n",
        "text = re.sub(r'https?://\\S+', '', text)              # remove URLs\n",
        "text = re.sub(r'[^\\x00-\\x7F]+', '', text)             # remove emojis and non-ASCII characters\n",
        "\n",
        "# Step 2: Remove punctuation\n",
        "text = text.translate(str.maketrans('', '', string.punctuation))\n",
        "\n",
        "# Step 3: Convert to lowercase\n",
        "text = text.lower()\n",
        "\n",
        "# Step 4: Split into words\n",
        "words = text.split()\n",
        "\n",
        "# Display result\n",
        "print(\"Cleaned Words:\", words)\n"
      ]
    },
    {
      "cell_type": "markdown",
      "id": "1d98d476-b7f5-4654-bc95-12b9a8fa667b",
      "metadata": {
        "id": "1d98d476-b7f5-4654-bc95-12b9a8fa667b"
      },
      "source": [
        "### Tokenization Task"
      ]
    },
    {
      "cell_type": "code",
      "execution_count": null,
      "id": "87fedb56-9d64-4bba-bf23-b45c960d20be",
      "metadata": {
        "id": "87fedb56-9d64-4bba-bf23-b45c960d20be",
        "outputId": "39a3cad7-6443-41e9-d687-251d3c51980b"
      },
      "outputs": [
        {
          "name": "stderr",
          "output_type": "stream",
          "text": [
            "[nltk_data] Downloading package punkt to C:\\Users\\Nkechi\n",
            "[nltk_data]     Pc\\AppData\\Roaming\\nltk_data...\n",
            "[nltk_data]   Unzipping tokenizers\\punkt.zip.\n"
          ]
        },
        {
          "data": {
            "text/plain": [
              "True"
            ]
          },
          "execution_count": 24,
          "metadata": {},
          "output_type": "execute_result"
        }
      ],
      "source": [
        "# Download required resources\n",
        "nltk.download('punkt')"
      ]
    },
    {
      "cell_type": "code",
      "execution_count": null,
      "id": "32413aba-0c81-42ad-a082-ccfa8130bb98",
      "metadata": {
        "id": "32413aba-0c81-42ad-a082-ccfa8130bb98"
      },
      "outputs": [],
      "source": [
        "text = \"Tokenization is the first step in NLP. It splits text into smaller pieces for analysis.\"\n"
      ]
    },
    {
      "cell_type": "code",
      "execution_count": null,
      "id": "f16479fe-c756-47cc-a977-d5e28f26ea36",
      "metadata": {
        "id": "f16479fe-c756-47cc-a977-d5e28f26ea36",
        "outputId": "806358ed-8e53-4c08-ab94-ca81fb8dfe03"
      },
      "outputs": [
        {
          "name": "stdout",
          "output_type": "stream",
          "text": [
            "Sentence Tokenization:\n",
            "['Tokenization is the first step in NLP.', 'It splits text into smaller pieces for analysis.']\n",
            "\n",
            "Word Tokenization:\n",
            "['Tokenization', 'is', 'the', 'first', 'step', 'in', 'NLP', '.', 'It', 'splits', 'text', 'into', 'smaller', 'pieces', 'for', 'analysis', '.']\n"
          ]
        }
      ],
      "source": [
        "# Sentence-level tokenization\n",
        "sentences = sent_tokenize(text)\n",
        "print(\"Sentence Tokenization:\")\n",
        "print(sentences)\n",
        "\n",
        "# Word-level tokenization\n",
        "words = word_tokenize(text)\n",
        "print(\"\\nWord Tokenization:\")\n",
        "print(words)\n"
      ]
    },
    {
      "cell_type": "markdown",
      "id": "01bddb18-a48c-4c57-acb4-8ce74fa9547f",
      "metadata": {
        "id": "01bddb18-a48c-4c57-acb4-8ce74fa9547f"
      },
      "source": [
        "### Stemming and Lemmatization Task"
      ]
    },
    {
      "cell_type": "code",
      "execution_count": null,
      "id": "ee2b5e18-7492-4cff-9ede-672fd41dbe2b",
      "metadata": {
        "id": "ee2b5e18-7492-4cff-9ede-672fd41dbe2b",
        "outputId": "a15f8ff5-530e-4b0e-e88a-e5e00d49463c"
      },
      "outputs": [
        {
          "name": "stdout",
          "output_type": "stream",
          "text": [
            "Stemmed Words: ['run', 'fli', 'studi', 'easili', 'studi', 'better']\n"
          ]
        }
      ],
      "source": [
        "words = [\"running\", \"flies\", \"studies\", \"easily\", \"studying\", \"better\"]\n",
        "\n",
        "\n",
        "# Initialize stemmer\n",
        "stemmer = PorterStemmer()\n",
        "\n",
        "# Apply stemming\n",
        "stemmed_words = [stemmer.stem(word) for word in words]\n",
        "print(\"Stemmed Words:\", stemmed_words)\n"
      ]
    },
    {
      "cell_type": "code",
      "execution_count": null,
      "id": "b86704e5-2f18-45dc-8d72-1a1e1eb542b5",
      "metadata": {
        "id": "b86704e5-2f18-45dc-8d72-1a1e1eb542b5",
        "outputId": "0efaad3a-f609-46bc-d19e-9814f30e781a"
      },
      "outputs": [
        {
          "ename": "NameError",
          "evalue": "name 'spacy' is not defined",
          "output_type": "error",
          "traceback": [
            "\u001b[1;31m---------------------------------------------------------------------------\u001b[0m",
            "\u001b[1;31mNameError\u001b[0m                                 Traceback (most recent call last)",
            "Cell \u001b[1;32mIn[62], line 2\u001b[0m\n\u001b[0;32m      1\u001b[0m \u001b[38;5;66;03m# Load spaCy English model\u001b[39;00m\n\u001b[1;32m----> 2\u001b[0m nlp \u001b[38;5;241m=\u001b[39m spacy\u001b[38;5;241m.\u001b[39mload(\u001b[38;5;124m\"\u001b[39m\u001b[38;5;124men_core_web_sm\u001b[39m\u001b[38;5;124m\"\u001b[39m)\n\u001b[0;32m      4\u001b[0m \u001b[38;5;66;03m# Apply lemmatization\u001b[39;00m\n\u001b[0;32m      5\u001b[0m doc \u001b[38;5;241m=\u001b[39m nlp(\u001b[38;5;124m\"\u001b[39m\u001b[38;5;124m \u001b[39m\u001b[38;5;124m\"\u001b[39m\u001b[38;5;241m.\u001b[39mjoin(words))\n",
            "\u001b[1;31mNameError\u001b[0m: name 'spacy' is not defined"
          ]
        }
      ],
      "source": [
        "# Load spaCy English model\n",
        "nlp = spacy.load(\"en_core_web_sm\")\n",
        "\n",
        "# Apply lemmatization\n",
        "doc = nlp(\" \".join(words))\n",
        "lemmatized_words = [token.lemma_ for token in doc]\n",
        "print(\"Lemmatized Words:\", lemmatized_words)\n",
        "\n"
      ]
    },
    {
      "cell_type": "code",
      "execution_count": null,
      "id": "70ce3508-3b1b-4e0e-9304-da9131e0d2df",
      "metadata": {
        "id": "70ce3508-3b1b-4e0e-9304-da9131e0d2df",
        "outputId": "92697529-2600-4bcd-b430-d8ac4632fdd7"
      },
      "outputs": [
        {
          "name": "stdout",
          "output_type": "stream",
          "text": [
            "Requirement already satisfied: spacy in c:\\users\\nkechi pc\\anaconda3\\lib\\site-packages (3.8.7)\n",
            "Requirement already satisfied: spacy-legacy<3.1.0,>=3.0.11 in c:\\users\\nkechi pc\\anaconda3\\lib\\site-packages (from spacy) (3.0.12)\n",
            "Requirement already satisfied: spacy-loggers<2.0.0,>=1.0.0 in c:\\users\\nkechi pc\\anaconda3\\lib\\site-packages (from spacy) (1.0.5)\n",
            "Requirement already satisfied: murmurhash<1.1.0,>=0.28.0 in c:\\users\\nkechi pc\\anaconda3\\lib\\site-packages (from spacy) (1.0.13)\n",
            "Requirement already satisfied: cymem<2.1.0,>=2.0.2 in c:\\users\\nkechi pc\\anaconda3\\lib\\site-packages (from spacy) (2.0.11)\n",
            "Requirement already satisfied: preshed<3.1.0,>=3.0.2 in c:\\users\\nkechi pc\\anaconda3\\lib\\site-packages (from spacy) (3.0.10)\n",
            "Requirement already satisfied: thinc<8.4.0,>=8.3.4 in c:\\users\\nkechi pc\\anaconda3\\lib\\site-packages (from spacy) (8.3.6)\n",
            "Requirement already satisfied: wasabi<1.2.0,>=0.9.1 in c:\\users\\nkechi pc\\anaconda3\\lib\\site-packages (from spacy) (1.1.3)\n",
            "Requirement already satisfied: srsly<3.0.0,>=2.4.3 in c:\\users\\nkechi pc\\anaconda3\\lib\\site-packages (from spacy) (2.5.1)\n",
            "Requirement already satisfied: catalogue<2.1.0,>=2.0.6 in c:\\users\\nkechi pc\\anaconda3\\lib\\site-packages (from spacy) (2.0.10)\n",
            "Requirement already satisfied: weasel<0.5.0,>=0.1.0 in c:\\users\\nkechi pc\\anaconda3\\lib\\site-packages (from spacy) (0.4.1)\n",
            "Requirement already satisfied: typer<1.0.0,>=0.3.0 in c:\\users\\nkechi pc\\anaconda3\\lib\\site-packages (from spacy) (0.17.4)\n",
            "Requirement already satisfied: tqdm<5.0.0,>=4.38.0 in c:\\users\\nkechi pc\\anaconda3\\lib\\site-packages (from spacy) (4.66.4)\n",
            "Requirement already satisfied: numpy>=1.19.0 in c:\\users\\nkechi pc\\anaconda3\\lib\\site-packages (from spacy) (2.3.2)\n",
            "Requirement already satisfied: requests<3.0.0,>=2.13.0 in c:\\users\\nkechi pc\\anaconda3\\lib\\site-packages (from spacy) (2.32.2)\n",
            "Requirement already satisfied: pydantic!=1.8,!=1.8.1,<3.0.0,>=1.7.4 in c:\\users\\nkechi pc\\anaconda3\\lib\\site-packages (from spacy) (2.5.3)\n",
            "Requirement already satisfied: jinja2 in c:\\users\\nkechi pc\\anaconda3\\lib\\site-packages (from spacy) (3.1.4)\n",
            "Requirement already satisfied: setuptools in c:\\users\\nkechi pc\\anaconda3\\lib\\site-packages (from spacy) (69.5.1)\n",
            "Requirement already satisfied: packaging>=20.0 in c:\\users\\nkechi pc\\anaconda3\\lib\\site-packages (from spacy) (23.2)\n",
            "Requirement already satisfied: langcodes<4.0.0,>=3.2.0 in c:\\users\\nkechi pc\\anaconda3\\lib\\site-packages (from spacy) (3.5.0)\n",
            "Requirement already satisfied: language-data>=1.2 in c:\\users\\nkechi pc\\anaconda3\\lib\\site-packages (from langcodes<4.0.0,>=3.2.0->spacy) (1.3.0)\n",
            "Requirement already satisfied: annotated-types>=0.4.0 in c:\\users\\nkechi pc\\anaconda3\\lib\\site-packages (from pydantic!=1.8,!=1.8.1,<3.0.0,>=1.7.4->spacy) (0.6.0)\n",
            "Requirement already satisfied: pydantic-core==2.14.6 in c:\\users\\nkechi pc\\anaconda3\\lib\\site-packages (from pydantic!=1.8,!=1.8.1,<3.0.0,>=1.7.4->spacy) (2.14.6)\n",
            "Requirement already satisfied: typing-extensions>=4.6.1 in c:\\users\\nkechi pc\\anaconda3\\lib\\site-packages (from pydantic!=1.8,!=1.8.1,<3.0.0,>=1.7.4->spacy) (4.11.0)\n",
            "Requirement already satisfied: charset-normalizer<4,>=2 in c:\\users\\nkechi pc\\anaconda3\\lib\\site-packages (from requests<3.0.0,>=2.13.0->spacy) (2.0.4)\n",
            "Requirement already satisfied: idna<4,>=2.5 in c:\\users\\nkechi pc\\anaconda3\\lib\\site-packages (from requests<3.0.0,>=2.13.0->spacy) (3.7)\n",
            "Requirement already satisfied: urllib3<3,>=1.21.1 in c:\\users\\nkechi pc\\anaconda3\\lib\\site-packages (from requests<3.0.0,>=2.13.0->spacy) (2.2.2)\n",
            "Requirement already satisfied: certifi>=2017.4.17 in c:\\users\\nkechi pc\\anaconda3\\lib\\site-packages (from requests<3.0.0,>=2.13.0->spacy) (2024.7.4)\n",
            "Requirement already satisfied: blis<1.4.0,>=1.3.0 in c:\\users\\nkechi pc\\anaconda3\\lib\\site-packages (from thinc<8.4.0,>=8.3.4->spacy) (1.3.0)\n",
            "Requirement already satisfied: confection<1.0.0,>=0.0.1 in c:\\users\\nkechi pc\\anaconda3\\lib\\site-packages (from thinc<8.4.0,>=8.3.4->spacy) (0.1.5)\n",
            "Requirement already satisfied: colorama in c:\\users\\nkechi pc\\anaconda3\\lib\\site-packages (from tqdm<5.0.0,>=4.38.0->spacy) (0.4.6)\n",
            "Requirement already satisfied: click>=8.0.0 in c:\\users\\nkechi pc\\anaconda3\\lib\\site-packages (from typer<1.0.0,>=0.3.0->spacy) (8.1.7)\n",
            "Requirement already satisfied: shellingham>=1.3.0 in c:\\users\\nkechi pc\\anaconda3\\lib\\site-packages (from typer<1.0.0,>=0.3.0->spacy) (1.5.4)\n",
            "Requirement already satisfied: rich>=10.11.0 in c:\\users\\nkechi pc\\anaconda3\\lib\\site-packages (from typer<1.0.0,>=0.3.0->spacy) (13.3.5)\n",
            "Requirement already satisfied: cloudpathlib<1.0.0,>=0.7.0 in c:\\users\\nkechi pc\\anaconda3\\lib\\site-packages (from weasel<0.5.0,>=0.1.0->spacy) (0.22.0)\n",
            "Requirement already satisfied: smart-open<8.0.0,>=5.2.1 in c:\\users\\nkechi pc\\anaconda3\\lib\\site-packages (from weasel<0.5.0,>=0.1.0->spacy) (5.2.1)\n",
            "Requirement already satisfied: MarkupSafe>=2.0 in c:\\users\\nkechi pc\\anaconda3\\lib\\site-packages (from jinja2->spacy) (2.1.3)\n",
            "Requirement already satisfied: marisa-trie>=1.1.0 in c:\\users\\nkechi pc\\anaconda3\\lib\\site-packages (from language-data>=1.2->langcodes<4.0.0,>=3.2.0->spacy) (1.3.1)\n",
            "Requirement already satisfied: markdown-it-py<3.0.0,>=2.2.0 in c:\\users\\nkechi pc\\anaconda3\\lib\\site-packages (from rich>=10.11.0->typer<1.0.0,>=0.3.0->spacy) (2.2.0)\n",
            "Requirement already satisfied: pygments<3.0.0,>=2.13.0 in c:\\users\\nkechi pc\\anaconda3\\lib\\site-packages (from rich>=10.11.0->typer<1.0.0,>=0.3.0->spacy) (2.15.1)\n",
            "Requirement already satisfied: mdurl~=0.1 in c:\\users\\nkechi pc\\anaconda3\\lib\\site-packages (from markdown-it-py<3.0.0,>=2.2.0->rich>=10.11.0->typer<1.0.0,>=0.3.0->spacy) (0.1.0)\n",
            "Note: you may need to restart the kernel to use updated packages.\n"
          ]
        }
      ],
      "source": [
        "%pip install spacy\n"
      ]
    },
    {
      "cell_type": "markdown",
      "id": "759a3f78-fc54-4f43-8ddc-37465039a27f",
      "metadata": {
        "id": "759a3f78-fc54-4f43-8ddc-37465039a27f"
      },
      "source": [
        "### Assignment 3"
      ]
    },
    {
      "cell_type": "code",
      "execution_count": null,
      "id": "c517db57-09e6-4c2e-b730-8a8955c759a7",
      "metadata": {
        "id": "c517db57-09e6-4c2e-b730-8a8955c759a7",
        "outputId": "e5287d8a-32f4-41a6-8840-285bd28fce83"
      },
      "outputs": [
        {
          "name": "stdout",
          "output_type": "stream",
          "text": [
            "One-Hot Encoded Vectors:\n",
            "   dog  fox  kernel  lazy  quick\n",
            "0    1    0       0     0      0\n",
            "1    0    1       0     0      0\n",
            "2    0    0       1     0      0\n",
            "3    0    0       0     1      0\n",
            "4    0    0       0     0      1\n"
          ]
        }
      ],
      "source": [
        "# Define vocabulary\n",
        "vocab = [\"dog\", \"fox\", \"kernel\", \"lazy\", \"quick\"]\n",
        "\n",
        "# Create one-hot encoded vectors\n",
        "one_hot = pd.DataFrame([\n",
        "    [1 if word == vocab[i] else 0 for word in vocab]\n",
        "    for i in range(len(vocab))\n",
        "], columns=vocab)\n",
        "\n",
        "# Display result\n",
        "print(\"One-Hot Encoded Vectors:\")\n",
        "print(one_hot)\n",
        "\n"
      ]
    },
    {
      "cell_type": "code",
      "execution_count": null,
      "id": "e0c42cc6-63b9-4ec8-9d4f-0fd410fa52e1",
      "metadata": {
        "id": "e0c42cc6-63b9-4ec8-9d4f-0fd410fa52e1",
        "outputId": "424be021-900a-483c-e570-4b28948e1688"
      },
      "outputs": [
        {
          "name": "stdout",
          "output_type": "stream",
          "text": [
            "\n",
            "Bag of Words Representation:\n",
            "   brown  dog  fox  in  jumps  kernel  lazy  over  quick  sleeps  the\n",
            "0      1    1    1   0      1       0     1     1      1       0    2\n",
            "1      0    1    0   1      0       1     0     0      0       1    2\n"
          ]
        }
      ],
      "source": [
        "from sklearn.feature_extraction.text import CountVectorizer\n",
        "\n",
        "# Dataset\n",
        "sentences = [\n",
        "    \"The quick brown fox jumps over the lazy dog.\",\n",
        "    \"The dog sleeps in the kernel\"\n",
        "]\n",
        "\n",
        "# Initialize CountVectorizer\n",
        "vectorizer = CountVectorizer()\n",
        "\n",
        "# Fit and transform\n",
        "bow_matrix = vectorizer.fit_transform(sentences)\n",
        "\n",
        "# Convert to DataFrame for readability\n",
        "bow_df = pd.DataFrame(bow_matrix.toarray(), columns=vectorizer.get_feature_names_out())\n",
        "\n",
        "print(\"\\nBag of Words Representation:\")\n",
        "print(bow_df)\n"
      ]
    },
    {
      "cell_type": "code",
      "execution_count": null,
      "id": "89a483ef-4eb2-4265-81c4-af90935c06ed",
      "metadata": {
        "id": "89a483ef-4eb2-4265-81c4-af90935c06ed",
        "outputId": "560a8b38-4c75-4c02-cd1d-94bb6e227149"
      },
      "outputs": [
        {
          "name": "stdout",
          "output_type": "stream",
          "text": [
            "\n",
            "TF-IDF Representation:\n",
            "      brown       dog       fox        in     jumps    kernel      lazy  \\\n",
            "0  0.342369  0.243598  0.342369  0.000000  0.342369  0.000000  0.342369   \n",
            "1  0.000000  0.302531  0.000000  0.425196  0.000000  0.425196  0.000000   \n",
            "\n",
            "       over     quick    sleeps       the  \n",
            "0  0.342369  0.342369  0.000000  0.487197  \n",
            "1  0.000000  0.000000  0.425196  0.605061  \n"
          ]
        }
      ],
      "source": [
        "from sklearn.feature_extraction.text import TfidfVectorizer\n",
        "\n",
        "# Initialize TfidfVectorizer\n",
        "tfidf_vectorizer = TfidfVectorizer()\n",
        "\n",
        "# Fit and transform\n",
        "tfidf_matrix = tfidf_vectorizer.fit_transform(sentences)\n",
        "\n",
        "# Convert to DataFrame\n",
        "tfidf_df = pd.DataFrame(tfidf_matrix.toarray(), columns=tfidf_vectorizer.get_feature_names_out())\n",
        "\n",
        "print(\"\\nTF-IDF Representation:\")\n",
        "print(tfidf_df)\n"
      ]
    },
    {
      "cell_type": "markdown",
      "id": "e6c22c46-3f12-4ac1-866a-a1b6229fa33a",
      "metadata": {
        "id": "e6c22c46-3f12-4ac1-866a-a1b6229fa33a"
      },
      "source": [
        "### Word2Vec Assignment"
      ]
    },
    {
      "cell_type": "code",
      "execution_count": null,
      "id": "35102ae4-528a-48e1-b927-b6e68e6dd6bb",
      "metadata": {
        "id": "35102ae4-528a-48e1-b927-b6e68e6dd6bb"
      },
      "outputs": [],
      "source": [
        "# Sample dataset\n",
        "sentences = [\n",
        "    [\"the\", \"cat\", \"meows\"],\n",
        "    [\"the\", \"dog\", \"barks\"],\n",
        "    [\"the\", \"bird\", \"sings\"]\n",
        "]\n"
      ]
    },
    {
      "cell_type": "code",
      "execution_count": null,
      "id": "a2d5da26-351f-4c95-986e-52e24d8c40e8",
      "metadata": {
        "id": "a2d5da26-351f-4c95-986e-52e24d8c40e8",
        "outputId": "48d55f4e-9100-4045-a866-06b8a9c1ab9d"
      },
      "outputs": [
        {
          "name": "stdout",
          "output_type": "stream",
          "text": [
            "Requirement already satisfied: numpy in c:\\users\\nkechi pc\\anaconda3\\lib\\site-packages (2.3.2)\n",
            "Requirement already satisfied: scipy in c:\\users\\nkechi pc\\anaconda3\\lib\\site-packages (1.13.1)\n",
            "Collecting scipy\n",
            "  Downloading scipy-1.16.1-cp312-cp312-win_amd64.whl.metadata (60 kB)\n",
            "     ---------------------------------------- 0.0/60.8 kB ? eta -:--:--\n",
            "     ------------ ------------------------- 20.5/60.8 kB 640.0 kB/s eta 0:00:01\n",
            "     ------------ ------------------------- 20.5/60.8 kB 640.0 kB/s eta 0:00:01\n",
            "     ------------------- ------------------ 30.7/60.8 kB 217.9 kB/s eta 0:00:01\n",
            "     ------------------------- ------------ 41.0/60.8 kB 196.9 kB/s eta 0:00:01\n",
            "     ------------------------------- ------ 51.2/60.8 kB 201.8 kB/s eta 0:00:01\n",
            "     -------------------------------------- 60.8/60.8 kB 202.3 kB/s eta 0:00:00\n",
            "Requirement already satisfied: h5py in c:\\users\\nkechi pc\\anaconda3\\lib\\site-packages (3.11.0)\n",
            "Collecting h5py\n",
            "  Downloading h5py-3.14.0-cp312-cp312-win_amd64.whl.metadata (2.7 kB)\n",
            "Requirement already satisfied: thinc in c:\\users\\nkechi pc\\anaconda3\\lib\\site-packages (8.3.6)\n",
            "Collecting thinc\n",
            "  Downloading thinc-9.1.1-cp312-cp312-win_amd64.whl.metadata (15 kB)\n",
            "Collecting blis<1.1.0,>=1.0.0 (from thinc)\n",
            "  Downloading blis-1.0.2-cp312-cp312-win_amd64.whl.metadata (7.8 kB)\n",
            "Requirement already satisfied: murmurhash<1.1.0,>=1.0.2 in c:\\users\\nkechi pc\\anaconda3\\lib\\site-packages (from thinc) (1.0.13)\n",
            "Requirement already satisfied: cymem<2.1.0,>=2.0.2 in c:\\users\\nkechi pc\\anaconda3\\lib\\site-packages (from thinc) (2.0.11)\n",
            "Requirement already satisfied: preshed<3.1.0,>=3.0.2 in c:\\users\\nkechi pc\\anaconda3\\lib\\site-packages (from thinc) (3.0.10)\n",
            "Requirement already satisfied: wasabi<1.2.0,>=0.8.1 in c:\\users\\nkechi pc\\anaconda3\\lib\\site-packages (from thinc) (1.1.3)\n",
            "Requirement already satisfied: srsly<3.0.0,>=2.4.0 in c:\\users\\nkechi pc\\anaconda3\\lib\\site-packages (from thinc) (2.5.1)\n",
            "Requirement already satisfied: catalogue<2.1.0,>=2.0.4 in c:\\users\\nkechi pc\\anaconda3\\lib\\site-packages (from thinc) (2.0.10)\n",
            "Requirement already satisfied: confection<1.0.0,>=0.0.1 in c:\\users\\nkechi pc\\anaconda3\\lib\\site-packages (from thinc) (0.1.5)\n",
            "Requirement already satisfied: setuptools in c:\\users\\nkechi pc\\anaconda3\\lib\\site-packages (from thinc) (69.5.1)\n",
            "Requirement already satisfied: pydantic!=1.8,!=1.8.1,<3.0.0,>=1.7.4 in c:\\users\\nkechi pc\\anaconda3\\lib\\site-packages (from thinc) (2.5.3)\n",
            "Requirement already satisfied: packaging>=20.0 in c:\\users\\nkechi pc\\anaconda3\\lib\\site-packages (from thinc) (23.2)\n",
            "Requirement already satisfied: annotated-types>=0.4.0 in c:\\users\\nkechi pc\\anaconda3\\lib\\site-packages (from pydantic!=1.8,!=1.8.1,<3.0.0,>=1.7.4->thinc) (0.6.0)\n",
            "Requirement already satisfied: pydantic-core==2.14.6 in c:\\users\\nkechi pc\\anaconda3\\lib\\site-packages (from pydantic!=1.8,!=1.8.1,<3.0.0,>=1.7.4->thinc) (2.14.6)\n",
            "Requirement already satisfied: typing-extensions>=4.6.1 in c:\\users\\nkechi pc\\anaconda3\\lib\\site-packages (from pydantic!=1.8,!=1.8.1,<3.0.0,>=1.7.4->thinc) (4.11.0)\n",
            "Requirement already satisfied: colorama>=0.4.6 in c:\\users\\nkechi pc\\anaconda3\\lib\\site-packages (from wasabi<1.2.0,>=0.8.1->thinc) (0.4.6)\n",
            "Downloading scipy-1.16.1-cp312-cp312-win_amd64.whl (38.5 MB)\n",
            "   ---------------------------------------- 0.0/38.5 MB ? eta -:--:--\n",
            "   ---------------------------------------- 0.1/38.5 MB 1.7 MB/s eta 0:00:24\n",
            "   ---------------------------------------- 0.1/38.5 MB 1.3 MB/s eta 0:00:30\n",
            "   ---------------------------------------- 0.1/38.5 MB 1.3 MB/s eta 0:00:30\n",
            "   ---------------------------------------- 0.2/38.5 MB 930.9 kB/s eta 0:00:42\n",
            "   ---------------------------------------- 0.2/38.5 MB 1.1 MB/s eta 0:00:37\n",
            "   ---------------------------------------- 0.2/38.5 MB 801.7 kB/s eta 0:00:48\n",
            "   ---------------------------------------- 0.4/38.5 MB 1.1 MB/s eta 0:00:34\n",
            "   ---------------------------------------- 0.5/38.5 MB 1.3 MB/s eta 0:00:29\n",
            "   ---------------------------------------- 0.5/38.5 MB 1.3 MB/s eta 0:00:29\n",
            "    --------------------------------------- 0.7/38.5 MB 1.5 MB/s eta 0:00:26\n",
            "    --------------------------------------- 0.9/38.5 MB 1.7 MB/s eta 0:00:23\n",
            "   - -------------------------------------- 1.0/38.5 MB 1.9 MB/s eta 0:00:20\n",
            "   - -------------------------------------- 1.1/38.5 MB 1.8 MB/s eta 0:00:21\n",
            "   - -------------------------------------- 1.5/38.5 MB 2.3 MB/s eta 0:00:17\n",
            "   - -------------------------------------- 1.6/38.5 MB 2.2 MB/s eta 0:00:17\n",
            "   -- ------------------------------------- 2.0/38.5 MB 2.7 MB/s eta 0:00:14\n",
            "   -- ------------------------------------- 2.4/38.5 MB 3.0 MB/s eta 0:00:12\n",
            "   -- ------------------------------------- 2.4/38.5 MB 3.0 MB/s eta 0:00:13\n",
            "   -- ------------------------------------- 2.7/38.5 MB 3.0 MB/s eta 0:00:12\n",
            "   --- ------------------------------------ 3.1/38.5 MB 3.4 MB/s eta 0:00:11\n",
            "   --- ------------------------------------ 3.7/38.5 MB 3.8 MB/s eta 0:00:10\n",
            "   ---- ----------------------------------- 4.1/38.5 MB 4.1 MB/s eta 0:00:09\n",
            "   ---- ----------------------------------- 4.5/38.5 MB 4.3 MB/s eta 0:00:08\n",
            "   ---- ----------------------------------- 4.5/38.5 MB 4.3 MB/s eta 0:00:08\n",
            "   ---- ----------------------------------- 4.5/38.5 MB 4.3 MB/s eta 0:00:08\n",
            "   ---- ----------------------------------- 4.5/38.5 MB 4.3 MB/s eta 0:00:08\n",
            "   ---- ----------------------------------- 4.5/38.5 MB 4.3 MB/s eta 0:00:08\n",
            "   ---- ----------------------------------- 4.5/38.5 MB 4.3 MB/s eta 0:00:08\n",
            "   ---- ----------------------------------- 4.5/38.5 MB 4.3 MB/s eta 0:00:08\n",
            "   ---- ----------------------------------- 4.5/38.5 MB 4.3 MB/s eta 0:00:08\n",
            "   ------- -------------------------------- 7.2/38.5 MB 5.0 MB/s eta 0:00:07\n",
            "   ------- -------------------------------- 7.6/38.5 MB 5.1 MB/s eta 0:00:07\n",
            "   -------- ------------------------------- 7.9/38.5 MB 5.2 MB/s eta 0:00:06\n",
            "   -------- ------------------------------- 8.3/38.5 MB 5.3 MB/s eta 0:00:06\n",
            "   --------- ------------------------------ 8.8/38.5 MB 5.4 MB/s eta 0:00:06\n",
            "   --------- ------------------------------ 9.1/38.5 MB 5.5 MB/s eta 0:00:06\n",
            "   --------- ------------------------------ 9.5/38.5 MB 5.5 MB/s eta 0:00:06\n",
            "   ---------- ----------------------------- 9.9/38.5 MB 5.7 MB/s eta 0:00:06\n",
            "   ---------- ----------------------------- 10.1/38.5 MB 5.6 MB/s eta 0:00:06\n",
            "   ---------- ----------------------------- 10.3/38.5 MB 5.7 MB/s eta 0:00:05\n",
            "   ----------- ---------------------------- 10.8/38.5 MB 7.0 MB/s eta 0:00:04\n",
            "   ----------- ---------------------------- 11.3/38.5 MB 7.5 MB/s eta 0:00:04\n",
            "   ------------ --------------------------- 11.8/38.5 MB 7.7 MB/s eta 0:00:04\n",
            "   ------------ --------------------------- 11.8/38.5 MB 7.9 MB/s eta 0:00:04\n",
            "   ------------ --------------------------- 12.1/38.5 MB 7.5 MB/s eta 0:00:04\n",
            "   ------------- -------------------------- 12.7/38.5 MB 8.0 MB/s eta 0:00:04\n",
            "   ------------- -------------------------- 13.1/38.5 MB 8.0 MB/s eta 0:00:04\n",
            "   ------------- -------------------------- 13.3/38.5 MB 8.0 MB/s eta 0:00:04\n",
            "   -------------- ------------------------- 13.8/38.5 MB 7.9 MB/s eta 0:00:04\n",
            "   -------------- ------------------------- 14.4/38.5 MB 7.9 MB/s eta 0:00:04\n",
            "   --------------- ------------------------ 14.5/38.5 MB 7.7 MB/s eta 0:00:04\n",
            "   --------------- ------------------------ 14.8/38.5 MB 10.2 MB/s eta 0:00:03\n",
            "   --------------- ------------------------ 15.3/38.5 MB 9.9 MB/s eta 0:00:03\n",
            "   ---------------- ----------------------- 15.8/38.5 MB 9.5 MB/s eta 0:00:03\n",
            "   ---------------- ----------------------- 16.1/38.5 MB 9.1 MB/s eta 0:00:03\n",
            "   ----------------- ---------------------- 16.5/38.5 MB 8.7 MB/s eta 0:00:03\n",
            "   ----------------- ---------------------- 17.2/38.5 MB 8.5 MB/s eta 0:00:03\n",
            "   ------------------ --------------------- 17.5/38.5 MB 8.3 MB/s eta 0:00:03\n",
            "   ------------------ --------------------- 17.6/38.5 MB 8.3 MB/s eta 0:00:03\n",
            "   ------------------ --------------------- 17.9/38.5 MB 8.0 MB/s eta 0:00:03\n",
            "   ------------------- -------------------- 18.3/38.5 MB 8.0 MB/s eta 0:00:03\n",
            "   ------------------- -------------------- 18.7/38.5 MB 8.0 MB/s eta 0:00:03\n",
            "   ------------------- -------------------- 19.1/38.5 MB 8.2 MB/s eta 0:00:03\n",
            "   -------------------- ------------------- 19.6/38.5 MB 8.2 MB/s eta 0:00:03\n",
            "   -------------------- ------------------- 19.8/38.5 MB 7.9 MB/s eta 0:00:03\n",
            "   --------------------- ------------------ 20.2/38.5 MB 8.2 MB/s eta 0:00:03\n",
            "   --------------------- ------------------ 20.6/38.5 MB 8.3 MB/s eta 0:00:03\n",
            "   ---------------------- ----------------- 21.3/38.5 MB 8.4 MB/s eta 0:00:03\n",
            "   ---------------------- ----------------- 21.5/38.5 MB 8.3 MB/s eta 0:00:03\n",
            "   ---------------------- ----------------- 21.8/38.5 MB 8.2 MB/s eta 0:00:03\n",
            "   ----------------------- ---------------- 22.3/38.5 MB 8.4 MB/s eta 0:00:02\n",
            "   ----------------------- ---------------- 22.7/38.5 MB 8.4 MB/s eta 0:00:02\n",
            "   ----------------------- ---------------- 23.1/38.5 MB 8.4 MB/s eta 0:00:02\n",
            "   ------------------------ --------------- 23.4/38.5 MB 8.4 MB/s eta 0:00:02\n",
            "   ------------------------ --------------- 24.0/38.5 MB 8.4 MB/s eta 0:00:02\n",
            "   ------------------------- -------------- 24.3/38.5 MB 8.4 MB/s eta 0:00:02\n",
            "   ------------------------- -------------- 24.6/38.5 MB 8.2 MB/s eta 0:00:02\n",
            "   ------------------------- -------------- 25.0/38.5 MB 8.4 MB/s eta 0:00:02\n",
            "   -------------------------- ------------- 25.6/38.5 MB 8.5 MB/s eta 0:00:02\n",
            "   -------------------------- ------------- 25.7/38.5 MB 8.6 MB/s eta 0:00:02\n",
            "   -------------------------- ------------- 25.8/38.5 MB 8.3 MB/s eta 0:00:02\n",
            "   --------------------------- ------------ 26.4/38.5 MB 8.4 MB/s eta 0:00:02\n",
            "   --------------------------- ------------ 26.7/38.5 MB 8.1 MB/s eta 0:00:02\n",
            "   ---------------------------- ----------- 27.1/38.5 MB 8.1 MB/s eta 0:00:02\n",
            "   ---------------------------- ----------- 27.5/38.5 MB 8.3 MB/s eta 0:00:02\n",
            "   ---------------------------- ----------- 27.9/38.5 MB 8.2 MB/s eta 0:00:02\n",
            "   ----------------------------- ---------- 28.5/38.5 MB 8.4 MB/s eta 0:00:02\n",
            "   ------------------------------ --------- 29.1/38.5 MB 8.4 MB/s eta 0:00:02\n",
            "   ------------------------------ --------- 29.4/38.5 MB 8.4 MB/s eta 0:00:02\n",
            "   ------------------------------ --------- 29.8/38.5 MB 8.3 MB/s eta 0:00:02\n",
            "   ------------------------------- -------- 30.3/38.5 MB 8.6 MB/s eta 0:00:01\n",
            "   ------------------------------- -------- 30.7/38.5 MB 8.5 MB/s eta 0:00:01\n",
            "   -------------------------------- ------- 31.1/38.5 MB 8.4 MB/s eta 0:00:01\n",
            "   -------------------------------- ------- 31.5/38.5 MB 8.4 MB/s eta 0:00:01\n",
            "   --------------------------------- ------ 32.0/38.5 MB 8.6 MB/s eta 0:00:01\n",
            "   --------------------------------- ------ 32.1/38.5 MB 8.5 MB/s eta 0:00:01\n",
            "   --------------------------------- ------ 32.1/38.5 MB 8.5 MB/s eta 0:00:01\n",
            "   --------------------------------- ------ 32.1/38.5 MB 8.5 MB/s eta 0:00:01\n",
            "   --------------------------------- ------ 32.1/38.5 MB 8.5 MB/s eta 0:00:01\n",
            "   --------------------------------- ------ 32.1/38.5 MB 8.5 MB/s eta 0:00:01\n",
            "   --------------------------------- ------ 32.1/38.5 MB 8.5 MB/s eta 0:00:01\n",
            "   --------------------------------- ------ 32.3/38.5 MB 6.8 MB/s eta 0:00:01\n",
            "   ----------------------------------- ---- 33.9/38.5 MB 7.6 MB/s eta 0:00:01\n",
            "   ------------------------------------ --- 35.1/38.5 MB 8.2 MB/s eta 0:00:01\n",
            "   ------------------------------------ --- 35.6/38.5 MB 8.3 MB/s eta 0:00:01\n",
            "   ------------------------------------- -- 35.8/38.5 MB 8.0 MB/s eta 0:00:01\n",
            "   ------------------------------------- -- 36.2/38.5 MB 8.4 MB/s eta 0:00:01\n",
            "   ------------------------------------- -- 36.3/38.5 MB 8.2 MB/s eta 0:00:01\n",
            "   -------------------------------------- - 36.8/38.5 MB 8.3 MB/s eta 0:00:01\n",
            "   -------------------------------------- - 37.2/38.5 MB 8.3 MB/s eta 0:00:01\n",
            "   -------------------------------------- - 37.5/38.5 MB 8.2 MB/s eta 0:00:01\n",
            "   ---------------------------------------  38.1/38.5 MB 8.3 MB/s eta 0:00:01\n",
            "   ---------------------------------------  38.5/38.5 MB 8.4 MB/s eta 0:00:01\n",
            "   ---------------------------------------  38.5/38.5 MB 8.2 MB/s eta 0:00:01\n",
            "   ---------------------------------------  38.5/38.5 MB 8.2 MB/s eta 0:00:01\n",
            "   ---------------------------------------- 38.5/38.5 MB 7.4 MB/s eta 0:00:00\n",
            "Downloading h5py-3.14.0-cp312-cp312-win_amd64.whl (2.9 MB)\n",
            "   ---------------------------------------- 0.0/2.9 MB ? eta -:--:--\n",
            "   ------ --------------------------------- 0.5/2.9 MB 10.2 MB/s eta 0:00:01\n",
            "   -------------- ------------------------- 1.0/2.9 MB 9.1 MB/s eta 0:00:01\n",
            "   ----------------------- ---------------- 1.7/2.9 MB 9.6 MB/s eta 0:00:01\n",
            "   ------------------------- -------------- 1.8/2.9 MB 9.5 MB/s eta 0:00:01\n",
            "   ------------------------------- -------- 2.3/2.9 MB 7.6 MB/s eta 0:00:01\n",
            "   -------------------------------------- - 2.8/2.9 MB 7.7 MB/s eta 0:00:01\n",
            "   ---------------------------------------- 2.9/2.9 MB 7.0 MB/s eta 0:00:00\n",
            "Downloading thinc-9.1.1-cp312-cp312-win_amd64.whl (1.3 MB)\n",
            "   ---------------------------------------- 0.0/1.3 MB ? eta -:--:--\n",
            "   -------- ------------------------------- 0.3/1.3 MB 17.7 MB/s eta 0:00:01\n",
            "   -------------- ------------------------- 0.5/1.3 MB 5.6 MB/s eta 0:00:01\n",
            "   -------------- ------------------------- 0.5/1.3 MB 5.6 MB/s eta 0:00:01\n",
            "   -------------- ------------------------- 0.5/1.3 MB 5.6 MB/s eta 0:00:01\n",
            "   --------------------- ------------------ 0.7/1.3 MB 2.4 MB/s eta 0:00:01\n",
            "   ---------------------------------------- 1.3/1.3 MB 3.6 MB/s eta 0:00:00\n",
            "Downloading blis-1.0.2-cp312-cp312-win_amd64.whl (6.4 MB)\n",
            "   ---------------------------------------- 0.0/6.4 MB ? eta -:--:--\n",
            "   - -------------------------------------- 0.2/6.4 MB 5.9 MB/s eta 0:00:02\n",
            "   --- ------------------------------------ 0.6/6.4 MB 6.5 MB/s eta 0:00:01\n",
            "   ------ --------------------------------- 1.0/6.4 MB 7.2 MB/s eta 0:00:01\n",
            "   -------- ------------------------------- 1.4/6.4 MB 6.9 MB/s eta 0:00:01\n",
            "   ----------- ---------------------------- 1.8/6.4 MB 6.4 MB/s eta 0:00:01\n",
            "   ------------- -------------------------- 2.2/6.4 MB 6.5 MB/s eta 0:00:01\n",
            "   --------------- ------------------------ 2.5/6.4 MB 6.4 MB/s eta 0:00:01\n",
            "   ----------------- ---------------------- 2.8/6.4 MB 6.4 MB/s eta 0:00:01\n",
            "   ------------------ --------------------- 2.9/6.4 MB 6.1 MB/s eta 0:00:01\n",
            "   -------------------- ------------------- 3.3/6.4 MB 6.2 MB/s eta 0:00:01\n",
            "   ---------------------- ----------------- 3.6/6.4 MB 6.2 MB/s eta 0:00:01\n",
            "   ------------------------- -------------- 4.0/6.4 MB 6.4 MB/s eta 0:00:01\n",
            "   -------------------------- ------------- 4.2/6.4 MB 6.4 MB/s eta 0:00:01\n",
            "   ---------------------------- ----------- 4.6/6.4 MB 6.3 MB/s eta 0:00:01\n",
            "   ------------------------------ --------- 4.9/6.4 MB 6.3 MB/s eta 0:00:01\n",
            "   -------------------------------- ------- 5.2/6.4 MB 6.4 MB/s eta 0:00:01\n",
            "   ---------------------------------- ----- 5.5/6.4 MB 6.5 MB/s eta 0:00:01\n",
            "   ----------------------------------- ---- 5.7/6.4 MB 6.3 MB/s eta 0:00:01\n",
            "   -------------------------------------- - 6.1/6.4 MB 6.4 MB/s eta 0:00:01\n",
            "   ---------------------------------------  6.4/6.4 MB 6.4 MB/s eta 0:00:01\n",
            "   ---------------------------------------- 6.4/6.4 MB 6.2 MB/s eta 0:00:00\n",
            "Installing collected packages: scipy, h5py, blis, thinc\n",
            "  Attempting uninstall: scipy\n",
            "    Found existing installation: scipy 1.13.1\n",
            "    Uninstalling scipy-1.13.1:\n",
            "      Successfully uninstalled scipy-1.13.1\n",
            "  Attempting uninstall: h5py\n",
            "    Found existing installation: h5py 3.11.0\n",
            "    Uninstalling h5py-3.11.0:\n",
            "      Successfully uninstalled h5py-3.11.0\n",
            "  Attempting uninstall: blis\n",
            "    Found existing installation: blis 1.3.0\n",
            "    Uninstalling blis-1.3.0:\n",
            "      Successfully uninstalled blis-1.3.0\n",
            "  Attempting uninstall: thinc\n",
            "    Found existing installation: thinc 8.3.6\n",
            "    Uninstalling thinc-8.3.6:\n",
            "      Successfully uninstalled thinc-8.3.6\n",
            "Successfully installed blis-1.0.2 h5py-3.14.0 scipy-1.16.1 thinc-9.1.1\n",
            "Note: you may need to restart the kernel to use updated packages.\n"
          ]
        },
        {
          "name": "stderr",
          "output_type": "stream",
          "text": [
            "  WARNING: Failed to remove contents in a temporary directory 'C:\\Users\\Nkechi Pc\\anaconda3\\Lib\\site-packages\\~cipy'.\n",
            "  You can safely remove it manually.\n",
            "  WARNING: Failed to remove contents in a temporary directory 'C:\\Users\\Nkechi Pc\\anaconda3\\Lib\\site-packages\\~5py'.\n",
            "  You can safely remove it manually.\n",
            "  WARNING: Failed to remove contents in a temporary directory 'C:\\Users\\Nkechi Pc\\anaconda3\\Lib\\site-packages\\~hinc'.\n",
            "  You can safely remove it manually.\n",
            "ERROR: pip's dependency resolver does not currently take into account all the packages that are installed. This behaviour is the source of the following dependency conflicts.\n",
            "spacy 3.8.7 requires thinc<8.4.0,>=8.3.4, but you have thinc 9.1.1 which is incompatible.\n"
          ]
        }
      ],
      "source": [
        "pip install --upgrade numpy scipy h5py thinc\n"
      ]
    },
    {
      "cell_type": "markdown",
      "id": "1bf41a2f-5b6b-423d-9432-f3b44e24a5cb",
      "metadata": {
        "id": "1bf41a2f-5b6b-423d-9432-f3b44e24a5cb"
      },
      "source": [
        "### Thank You!"
      ]
    },
    {
      "cell_type": "code",
      "execution_count": null,
      "id": "e56c3f5e-d4df-4daf-8c42-9ff97d0169b0",
      "metadata": {
        "id": "e56c3f5e-d4df-4daf-8c42-9ff97d0169b0"
      },
      "outputs": [],
      "source": []
    }
  ],
  "metadata": {
    "kernelspec": {
      "display_name": "Python 3 (ipykernel)",
      "language": "python",
      "name": "python3"
    },
    "language_info": {
      "codemirror_mode": {
        "name": "ipython",
        "version": 3
      },
      "file_extension": ".py",
      "mimetype": "text/x-python",
      "name": "python",
      "nbconvert_exporter": "python",
      "pygments_lexer": "ipython3",
      "version": "3.12.4"
    },
    "colab": {
      "provenance": [],
      "include_colab_link": true
    }
  },
  "nbformat": 4,
  "nbformat_minor": 5
}